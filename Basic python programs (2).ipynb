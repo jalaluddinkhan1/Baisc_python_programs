{
 "cells": [
  {
   "cell_type": "markdown",
   "id": "18ed3171",
   "metadata": {},
   "source": [
    "# print Hello World"
   ]
  },
  {
   "cell_type": "code",
   "execution_count": 1,
   "id": "274db63e",
   "metadata": {},
   "outputs": [
    {
     "name": "stdout",
     "output_type": "stream",
     "text": [
      "Hello world\n"
     ]
    }
   ],
   "source": [
    "print(\"Hello world\")"
   ]
  },
  {
   "cell_type": "markdown",
   "id": "ddbbeef7",
   "metadata": {},
   "source": [
    "# Add 2 numbers"
   ]
  },
  {
   "cell_type": "code",
   "execution_count": 2,
   "id": "1cb6d3ca",
   "metadata": {},
   "outputs": [
    {
     "name": "stdout",
     "output_type": "stream",
     "text": [
      "15\n",
      "5\n",
      "20\n"
     ]
    }
   ],
   "source": [
    "num1=int(input())\n",
    "num2=int(input())\n",
    "sum=num1+num2\n",
    "print(sum)"
   ]
  },
  {
   "cell_type": "markdown",
   "id": "970ab06e",
   "metadata": {},
   "source": [
    "# Swap two number using third variable"
   ]
  },
  {
   "cell_type": "code",
   "execution_count": 3,
   "id": "b720e3b1",
   "metadata": {},
   "outputs": [
    {
     "name": "stdout",
     "output_type": "stream",
     "text": [
      "num1=  4\n",
      "num2=  10\n"
     ]
    }
   ],
   "source": [
    "num1=10\n",
    "num2=4\n",
    "temp=num1\n",
    "num1=num2\n",
    "num2=temp\n",
    "print(\"num1= \",num1)\n",
    "print(\"num2= \",num2)"
   ]
  },
  {
   "cell_type": "markdown",
   "id": "e809c5c9",
   "metadata": {},
   "source": [
    "# Swap two number without using third variabl"
   ]
  },
  {
   "cell_type": "code",
   "execution_count": 5,
   "id": "332ce986",
   "metadata": {},
   "outputs": [
    {
     "name": "stdout",
     "output_type": "stream",
     "text": [
      "num1=  4\n",
      "num2=  10\n"
     ]
    }
   ],
   "source": [
    "num1=10\n",
    "num2=4\n",
    "num2=num1+num2\n",
    "num1=num2-num1\n",
    "num2=num2-num1\n",
    "print(\"num1= \",num1)\n",
    "print(\"num2= \",num2)"
   ]
  },
  {
   "cell_type": "code",
   "execution_count": 6,
   "id": "e1e6b945",
   "metadata": {},
   "outputs": [],
   "source": [
    "#type 2"
   ]
  },
  {
   "cell_type": "code",
   "execution_count": 7,
   "id": "758e5119",
   "metadata": {},
   "outputs": [
    {
     "name": "stdout",
     "output_type": "stream",
     "text": [
      "num1=  4\n",
      "num2=  10\n"
     ]
    }
   ],
   "source": [
    "num1=10\n",
    "num2=4\n",
    "num1,num2=num2,num1\n",
    "print(\"num1= \",num1)\n",
    "print(\"num2= \",num2)"
   ]
  },
  {
   "cell_type": "code",
   "execution_count": 8,
   "id": "85bdca2f",
   "metadata": {},
   "outputs": [],
   "source": [
    "#type 3\n",
    "#x=5=0101\n",
    "#y=10=1010\n",
    "# x = 1111, y = 1010\n",
    "# y = 0101, x = 1111\n",
    "# x = 1010, y = 0101"
   ]
  },
  {
   "cell_type": "code",
   "execution_count": 9,
   "id": "1591913e",
   "metadata": {},
   "outputs": [
    {
     "name": "stdout",
     "output_type": "stream",
     "text": [
      "x =  10\n",
      "y =  5\n"
     ]
    }
   ],
   "source": [
    "x=5\n",
    "y=10\n",
    "x=x^y\n",
    "y=x^y\n",
    "x=x^y\n",
    "print(\"x = \",x)\n",
    "print(\"y = \",y)"
   ]
  },
  {
   "cell_type": "markdown",
   "id": "0a8301a7",
   "metadata": {},
   "source": [
    "# Maximum of two numbers in Python"
   ]
  },
  {
   "cell_type": "code",
   "execution_count": 10,
   "id": "824435a1",
   "metadata": {},
   "outputs": [
    {
     "name": "stdout",
     "output_type": "stream",
     "text": [
      "54\n",
      "8\n",
      "54\n"
     ]
    }
   ],
   "source": [
    "a=int(input())\n",
    "b=int(input())\n",
    "if a>b:\n",
    "    print(a)\n",
    "else:\n",
    "    print(b)"
   ]
  },
  {
   "cell_type": "code",
   "execution_count": 11,
   "id": "3f761dfc",
   "metadata": {},
   "outputs": [],
   "source": [
    "#type 2"
   ]
  },
  {
   "cell_type": "code",
   "execution_count": 12,
   "id": "d1547ba4",
   "metadata": {},
   "outputs": [
    {
     "name": "stdout",
     "output_type": "stream",
     "text": [
      "558\n",
      "58\n",
      "558\n"
     ]
    }
   ],
   "source": [
    "a=int(input())\n",
    "b=int(input())\n",
    "print(max(a,b))"
   ]
  },
  {
   "cell_type": "code",
   "execution_count": 13,
   "id": "906a3a85",
   "metadata": {},
   "outputs": [
    {
     "name": "stdout",
     "output_type": "stream",
     "text": [
      "8888\n",
      "588484\n",
      "588484\n"
     ]
    }
   ],
   "source": [
    "#type 3\n",
    "a=int(input())\n",
    "b=int(input())\n",
    "print(a if a>b else b)"
   ]
  },
  {
   "cell_type": "code",
   "execution_count": 17,
   "id": "f430e5da",
   "metadata": {},
   "outputs": [
    {
     "name": "stdout",
     "output_type": "stream",
     "text": [
      "5484\n",
      "44\n",
      "5484\n"
     ]
    }
   ],
   "source": [
    "#type 4 ( Using lambda function )\n",
    "a=int(input())\n",
    "b=int(input())\n",
    "Nmax=lambda a,b: a if a>b else b\n",
    "print(Nmax(a,b))"
   ]
  },
  {
   "cell_type": "code",
   "execution_count": 20,
   "id": "8a0a4d2f",
   "metadata": {},
   "outputs": [
    {
     "name": "stdout",
     "output_type": "stream",
     "text": [
      "252\n",
      "25\n",
      "max =  [252]\n"
     ]
    }
   ],
   "source": [
    "#type 5  list comprihansion\n",
    "a=int(input())\n",
    "b=int(input())\n",
    "l=[ a if a>b else b]\n",
    "print(\"max = \",l)"
   ]
  },
  {
   "cell_type": "markdown",
   "id": "16e069ae",
   "metadata": {},
   "source": [
    "# leap year or not"
   ]
  },
  {
   "cell_type": "code",
   "execution_count": 23,
   "id": "07a4fa04",
   "metadata": {},
   "outputs": [
    {
     "name": "stdout",
     "output_type": "stream",
     "text": [
      "205\n",
      "205  is not a leap year :( \n"
     ]
    }
   ],
   "source": [
    "year=int(input())\n",
    "if (((year%4==0)and (year%100!=0)) or (year%400==0)):\n",
    "    print(year,\" is leap year :) \")\n",
    "else:\n",
    "    print(year,\" is not a leap year :( \")\n"
   ]
  },
  {
   "cell_type": "markdown",
   "id": "0d1aebca",
   "metadata": {},
   "source": [
    "# Factorial of a Number"
   ]
  },
  {
   "cell_type": "code",
   "execution_count": 3,
   "id": "65fb3b72",
   "metadata": {},
   "outputs": [
    {
     "name": "stdout",
     "output_type": "stream",
     "text": [
      "5\n",
      "120\n"
     ]
    }
   ],
   "source": [
    "num=int(input())\n",
    "fact=1\n",
    "for i in range(num,0,-1):\n",
    "    fact=fact*i\n",
    "print(fact)"
   ]
  },
  {
   "cell_type": "code",
   "execution_count": 4,
   "id": "186eab50",
   "metadata": {},
   "outputs": [
    {
     "name": "stdout",
     "output_type": "stream",
     "text": [
      "5\n",
      "120\n"
     ]
    }
   ],
   "source": [
    "#type 2\n",
    "num=int(input())\n",
    "fact=1\n",
    "while num>0:\n",
    "    fact*=num\n",
    "    num-=1\n",
    "print(fact)"
   ]
  },
  {
   "cell_type": "code",
   "execution_count": 8,
   "id": "581ea9d0",
   "metadata": {},
   "outputs": [
    {
     "name": "stdout",
     "output_type": "stream",
     "text": [
      "5\n",
      "120\n"
     ]
    }
   ],
   "source": [
    "# using numpy\n",
    "\n",
    "import numpy as np\n",
    "num=int(input())\n",
    "ot=np.prod([i for i in range(num,0,-1)])\n",
    "print(ot)"
   ]
  },
  {
   "cell_type": "markdown",
   "id": "2d42ad3d",
   "metadata": {},
   "source": [
    "# factorial with in a range"
   ]
  },
  {
   "cell_type": "code",
   "execution_count": 11,
   "id": "f48e8dc9",
   "metadata": {},
   "outputs": [
    {
     "name": "stdout",
     "output_type": "stream",
     "text": [
      " Enter start : 1\n",
      " Enter end : 6\n",
      "1\n",
      "2\n",
      "6\n",
      "24\n",
      "120\n",
      "720\n"
     ]
    }
   ],
   "source": [
    "\n",
    "si=int(input(\" Enter start : \"))\n",
    "ei=int(input(\" Enter end : \"))\n",
    "for i in range(si,ei+1):\n",
    "    num=i\n",
    "    fact=1\n",
    "    while num>0:\n",
    "        fact*=num\n",
    "        num-=1\n",
    "    print(fact)\n",
    "    "
   ]
  },
  {
   "cell_type": "markdown",
   "id": "615ef5ce",
   "metadata": {},
   "source": [
    "# prime number"
   ]
  },
  {
   "cell_type": "code",
   "execution_count": 24,
   "id": "280cd7e1",
   "metadata": {},
   "outputs": [
    {
     "name": "stdout",
     "output_type": "stream",
     "text": [
      "6\n",
      "Not a Prime number\n"
     ]
    }
   ],
   "source": [
    "num=int(input())\n",
    "flag=0\n",
    "for i in range(2,num):\n",
    "    if num%i==0:\n",
    "        flag=1\n",
    "if flag==0:\n",
    "    print(\"Prime number\")\n",
    "else:\n",
    "    print(\"Not a Prime number\")"
   ]
  },
  {
   "cell_type": "markdown",
   "id": "75610e1d",
   "metadata": {},
   "source": [
    "# Prime within a range"
   ]
  },
  {
   "cell_type": "code",
   "execution_count": 33,
   "id": "f6ef7a7a",
   "metadata": {},
   "outputs": [
    {
     "name": "stdout",
     "output_type": "stream",
     "text": [
      " Enter start : 1\n",
      " Enter end : 20\n",
      "1\n",
      "2\n",
      "3\n",
      "5\n",
      "7\n",
      "11\n",
      "13\n",
      "17\n",
      "19\n"
     ]
    }
   ],
   "source": [
    "\n",
    "si=int(input(\" Enter start : \"))\n",
    "ei=int(input(\" Enter end : \"))\n",
    "for num in range(si,ei+1):\n",
    "    flag=0\n",
    "    for i in range(2,num):\n",
    "        if num% i ==0:\n",
    "            flag=1\n",
    "    if flag==0:\n",
    "        print(num)"
   ]
  },
  {
   "cell_type": "markdown",
   "id": "41c14347",
   "metadata": {},
   "source": [
    "# Sum of digits"
   ]
  },
  {
   "cell_type": "code",
   "execution_count": 3,
   "id": "1f6d13b1",
   "metadata": {},
   "outputs": [
    {
     "name": "stdout",
     "output_type": "stream",
     "text": [
      "123\n",
      "6\n"
     ]
    }
   ],
   "source": [
    "num=int(input())\n",
    "sum=0\n",
    "while num>0:\n",
    "    div= num%10\n",
    "    sum= sum+div\n",
    "    num=num//10\n",
    "print(sum)"
   ]
  },
  {
   "cell_type": "markdown",
   "id": "f48bf18b",
   "metadata": {},
   "source": [
    "# Reverse Number"
   ]
  },
  {
   "cell_type": "code",
   "execution_count": 8,
   "id": "d8777af1",
   "metadata": {},
   "outputs": [
    {
     "name": "stdout",
     "output_type": "stream",
     "text": [
      "1234\n",
      "4321\n"
     ]
    }
   ],
   "source": [
    "num=int(input())\n",
    "rev=0\n",
    "while num>0:\n",
    "    div= num%10\n",
    "    rev= rev*10+div\n",
    "    num=num//10\n",
    "print(rev)"
   ]
  },
  {
   "cell_type": "markdown",
   "id": "e77031fd",
   "metadata": {},
   "source": [
    "# Sum of even Digit"
   ]
  },
  {
   "cell_type": "code",
   "execution_count": 9,
   "id": "8506d507",
   "metadata": {},
   "outputs": [
    {
     "name": "stdout",
     "output_type": "stream",
     "text": [
      "223567\n",
      "10\n"
     ]
    }
   ],
   "source": [
    "num=int(input())\n",
    "sum=0\n",
    "while num>0:\n",
    "    div= num%10\n",
    "    if div%2==0:\n",
    "        sum=sum+div\n",
    "    num=num//10\n",
    "print(sum)"
   ]
  },
  {
   "cell_type": "markdown",
   "id": "54c23d06",
   "metadata": {},
   "source": [
    "# Greatest Digit"
   ]
  },
  {
   "cell_type": "code",
   "execution_count": 11,
   "id": "318e3ff8",
   "metadata": {},
   "outputs": [
    {
     "name": "stdout",
     "output_type": "stream",
     "text": [
      "44523\n",
      "5\n"
     ]
    }
   ],
   "source": [
    "num=int(input())\n",
    "great=-1\n",
    "while num>0:\n",
    "    div= num%10\n",
    "    if div> great:\n",
    "        great=div\n",
    "    num=num//10\n",
    "print(great)"
   ]
  },
  {
   "cell_type": "markdown",
   "id": "fa9a901b",
   "metadata": {},
   "source": [
    "# Check the number is palindrom or not"
   ]
  },
  {
   "cell_type": "code",
   "execution_count": 18,
   "id": "4e0a4e59",
   "metadata": {},
   "outputs": [
    {
     "name": "stdout",
     "output_type": "stream",
     "text": [
      "125\n",
      "521  is not a palindrom number\n"
     ]
    }
   ],
   "source": [
    "num=int(input())\n",
    "dem=num\n",
    "rev=0\n",
    "while num>0:\n",
    "    div= num%10\n",
    "    rev=rev*10+div\n",
    "    num=num//10\n",
    "if dem==rev:\n",
    "    print(rev,\" is a palindrom nubmber\")\n",
    "else:\n",
    "    print(rev,\" is not a palindrom number\")"
   ]
  },
  {
   "cell_type": "markdown",
   "id": "6d74634d",
   "metadata": {},
   "source": [
    "# Fibonacci sequence"
   ]
  },
  {
   "cell_type": "code",
   "execution_count": 22,
   "id": "26f57f5c",
   "metadata": {},
   "outputs": [
    {
     "name": "stdout",
     "output_type": "stream",
     "text": [
      "12\n",
      "0\n",
      "1\n",
      "1\n",
      "2\n",
      "3\n",
      "5\n",
      "8\n",
      "13\n",
      "21\n",
      "34\n",
      "55\n",
      "89\n"
     ]
    }
   ],
   "source": [
    "num=int(input())\n",
    "a,b=0,1\n",
    "for i in range(num):\n",
    "    print(a)\n",
    "    c=b\n",
    "    b=a+c\n",
    "    a=c\n"
   ]
  },
  {
   "cell_type": "markdown",
   "id": "59784d83",
   "metadata": {},
   "source": [
    "# Armstrong Number or Not"
   ]
  },
  {
   "cell_type": "code",
   "execution_count": 30,
   "id": "c7a71307",
   "metadata": {},
   "outputs": [
    {
     "name": "stdout",
     "output_type": "stream",
     "text": [
      "153\n",
      "153\n",
      "armstrong\n"
     ]
    }
   ],
   "source": [
    "num=int(input())\n",
    "tem=num\n",
    "rev=0\n",
    "while num>0:\n",
    "    div= num%10\n",
    "    rev= rev+(div**3)\n",
    "    num=num//10\n",
    "print(rev)\n",
    "if tem==rev:\n",
    "    print('armstrong')\n",
    "else:\n",
    "    print('not armstrong')"
   ]
  },
  {
   "cell_type": "code",
   "execution_count": null,
   "id": "77c41b9e",
   "metadata": {},
   "outputs": [],
   "source": []
  }
 ],
 "metadata": {
  "kernelspec": {
   "display_name": "Python 3 (ipykernel)",
   "language": "python",
   "name": "python3"
  },
  "language_info": {
   "codemirror_mode": {
    "name": "ipython",
    "version": 3
   },
   "file_extension": ".py",
   "mimetype": "text/x-python",
   "name": "python",
   "nbconvert_exporter": "python",
   "pygments_lexer": "ipython3",
   "version": "3.9.7"
  }
 },
 "nbformat": 4,
 "nbformat_minor": 5
}
